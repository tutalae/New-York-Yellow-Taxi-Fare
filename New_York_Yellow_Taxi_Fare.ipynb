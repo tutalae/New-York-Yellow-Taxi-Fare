{
  "nbformat": 4,
  "nbformat_minor": 0,
  "metadata": {
    "colab": {
      "name": "New York Yellow Taxi Fare.ipynb",
      "provenance": [],
      "collapsed_sections": [],
      "authorship_tag": "ABX9TyNLxgWKwQMyh2YtC69D4260",
      "include_colab_link": true
    },
    "kernelspec": {
      "name": "python3",
      "display_name": "Python 3"
    }
  },
  "cells": [
    {
      "cell_type": "markdown",
      "metadata": {
        "id": "view-in-github",
        "colab_type": "text"
      },
      "source": [
        "<a href=\"https://colab.research.google.com/github/tutalae/New-York-Yellow-Taxi-Fare/blob/main/New_York_Yellow_Taxi_Fare.ipynb\" target=\"_parent\"><img src=\"https://colab.research.google.com/assets/colab-badge.svg\" alt=\"Open In Colab\"/></a>"
      ]
    },
    {
      "cell_type": "code",
      "metadata": {
        "id": "4tvsRYEzwHdn"
      },
      "source": [
        "import pandas as pd\r\n",
        "import numpy as np\r\n",
        "import matplotlib.pyplot as plt\r\n",
        "from datetime import date\r\n",
        "import datetime as dt\r\n",
        "import calendar"
      ],
      "execution_count": 47,
      "outputs": []
    },
    {
      "cell_type": "code",
      "metadata": {
        "id": "66TG8F3SvV9C"
      },
      "source": [
        "url = 'https://drive.google.com/file/d/1QcKzIJlO6WRUH4IkrKAvDmBVEipXkeQb/view?usp=sharing'\r\n",
        "\r\n",
        "path = 'https://drive.google.com/uc?export=download&id='+url.split('/')[-2]\r\n",
        "\r\n",
        "data = pd.read_csv(path)"
      ],
      "execution_count": 74,
      "outputs": []
    },
    {
      "cell_type": "code",
      "metadata": {
        "colab": {
          "base_uri": "https://localhost:8080/",
          "height": 204
        },
        "id": "hiLw_Y-hwGxO",
        "outputId": "6b019710-ba3b-481c-f846-51d9440b698b"
      },
      "source": [
        "data.head()"
      ],
      "execution_count": 4,
      "outputs": [
        {
          "output_type": "execute_result",
          "data": {
            "text/html": [
              "<div>\n",
              "<style scoped>\n",
              "    .dataframe tbody tr th:only-of-type {\n",
              "        vertical-align: middle;\n",
              "    }\n",
              "\n",
              "    .dataframe tbody tr th {\n",
              "        vertical-align: top;\n",
              "    }\n",
              "\n",
              "    .dataframe thead th {\n",
              "        text-align: right;\n",
              "    }\n",
              "</style>\n",
              "<table border=\"1\" class=\"dataframe\">\n",
              "  <thead>\n",
              "    <tr style=\"text-align: right;\">\n",
              "      <th></th>\n",
              "      <th>VendorID</th>\n",
              "      <th>tpep_pickup_datetime</th>\n",
              "      <th>tpep_dropoff_datetime</th>\n",
              "      <th>passenger_count</th>\n",
              "      <th>PULocationID</th>\n",
              "      <th>DOLocationID</th>\n",
              "      <th>fare_amount</th>\n",
              "    </tr>\n",
              "  </thead>\n",
              "  <tbody>\n",
              "    <tr>\n",
              "      <th>0</th>\n",
              "      <td>1.0</td>\n",
              "      <td>2020-01-01 00:28:15</td>\n",
              "      <td>2020-01-01 00:33:03</td>\n",
              "      <td>1.0</td>\n",
              "      <td>238</td>\n",
              "      <td>239</td>\n",
              "      <td>6.0</td>\n",
              "    </tr>\n",
              "    <tr>\n",
              "      <th>1</th>\n",
              "      <td>1.0</td>\n",
              "      <td>2020-01-01 00:35:39</td>\n",
              "      <td>2020-01-01 00:43:04</td>\n",
              "      <td>1.0</td>\n",
              "      <td>239</td>\n",
              "      <td>238</td>\n",
              "      <td>7.0</td>\n",
              "    </tr>\n",
              "    <tr>\n",
              "      <th>2</th>\n",
              "      <td>1.0</td>\n",
              "      <td>2020-01-01 00:47:41</td>\n",
              "      <td>2020-01-01 00:53:52</td>\n",
              "      <td>1.0</td>\n",
              "      <td>238</td>\n",
              "      <td>238</td>\n",
              "      <td>6.0</td>\n",
              "    </tr>\n",
              "    <tr>\n",
              "      <th>3</th>\n",
              "      <td>1.0</td>\n",
              "      <td>2020-01-01 00:55:23</td>\n",
              "      <td>2020-01-01 01:00:14</td>\n",
              "      <td>1.0</td>\n",
              "      <td>238</td>\n",
              "      <td>151</td>\n",
              "      <td>5.5</td>\n",
              "    </tr>\n",
              "    <tr>\n",
              "      <th>4</th>\n",
              "      <td>2.0</td>\n",
              "      <td>2020-01-01 00:01:58</td>\n",
              "      <td>2020-01-01 00:04:16</td>\n",
              "      <td>1.0</td>\n",
              "      <td>193</td>\n",
              "      <td>193</td>\n",
              "      <td>3.5</td>\n",
              "    </tr>\n",
              "  </tbody>\n",
              "</table>\n",
              "</div>"
            ],
            "text/plain": [
              "   VendorID tpep_pickup_datetime  ... DOLocationID  fare_amount\n",
              "0       1.0  2020-01-01 00:28:15  ...          239          6.0\n",
              "1       1.0  2020-01-01 00:35:39  ...          238          7.0\n",
              "2       1.0  2020-01-01 00:47:41  ...          238          6.0\n",
              "3       1.0  2020-01-01 00:55:23  ...          151          5.5\n",
              "4       2.0  2020-01-01 00:01:58  ...          193          3.5\n",
              "\n",
              "[5 rows x 7 columns]"
            ]
          },
          "metadata": {
            "tags": []
          },
          "execution_count": 4
        }
      ]
    },
    {
      "cell_type": "code",
      "metadata": {
        "colab": {
          "base_uri": "https://localhost:8080/",
          "height": 297
        },
        "id": "njq_QEjpv3T0",
        "outputId": "72067ea6-6844-4cac-a8c4-0870c559b5b7"
      },
      "source": [
        "data.describe()"
      ],
      "execution_count": 5,
      "outputs": [
        {
          "output_type": "execute_result",
          "data": {
            "text/html": [
              "<div>\n",
              "<style scoped>\n",
              "    .dataframe tbody tr th:only-of-type {\n",
              "        vertical-align: middle;\n",
              "    }\n",
              "\n",
              "    .dataframe tbody tr th {\n",
              "        vertical-align: top;\n",
              "    }\n",
              "\n",
              "    .dataframe thead th {\n",
              "        text-align: right;\n",
              "    }\n",
              "</style>\n",
              "<table border=\"1\" class=\"dataframe\">\n",
              "  <thead>\n",
              "    <tr style=\"text-align: right;\">\n",
              "      <th></th>\n",
              "      <th>VendorID</th>\n",
              "      <th>passenger_count</th>\n",
              "      <th>PULocationID</th>\n",
              "      <th>DOLocationID</th>\n",
              "      <th>fare_amount</th>\n",
              "    </tr>\n",
              "  </thead>\n",
              "  <tbody>\n",
              "    <tr>\n",
              "      <th>count</th>\n",
              "      <td>1.227632e+06</td>\n",
              "      <td>1.227632e+06</td>\n",
              "      <td>1.243241e+06</td>\n",
              "      <td>1.243241e+06</td>\n",
              "      <td>1.243241e+06</td>\n",
              "    </tr>\n",
              "    <tr>\n",
              "      <th>mean</th>\n",
              "      <td>1.676771e+00</td>\n",
              "      <td>1.568692e+00</td>\n",
              "      <td>1.627453e+02</td>\n",
              "      <td>1.607467e+02</td>\n",
              "      <td>1.302977e+01</td>\n",
              "    </tr>\n",
              "    <tr>\n",
              "      <th>std</th>\n",
              "      <td>4.677094e-01</td>\n",
              "      <td>1.181809e+00</td>\n",
              "      <td>6.610786e+01</td>\n",
              "      <td>7.098176e+01</td>\n",
              "      <td>1.293962e+01</td>\n",
              "    </tr>\n",
              "    <tr>\n",
              "      <th>min</th>\n",
              "      <td>1.000000e+00</td>\n",
              "      <td>0.000000e+00</td>\n",
              "      <td>1.000000e+00</td>\n",
              "      <td>1.000000e+00</td>\n",
              "      <td>-1.238000e+03</td>\n",
              "    </tr>\n",
              "    <tr>\n",
              "      <th>25%</th>\n",
              "      <td>1.000000e+00</td>\n",
              "      <td>1.000000e+00</td>\n",
              "      <td>1.250000e+02</td>\n",
              "      <td>1.070000e+02</td>\n",
              "      <td>6.000000e+00</td>\n",
              "    </tr>\n",
              "    <tr>\n",
              "      <th>50%</th>\n",
              "      <td>2.000000e+00</td>\n",
              "      <td>1.000000e+00</td>\n",
              "      <td>1.610000e+02</td>\n",
              "      <td>1.620000e+02</td>\n",
              "      <td>9.000000e+00</td>\n",
              "    </tr>\n",
              "    <tr>\n",
              "      <th>75%</th>\n",
              "      <td>2.000000e+00</td>\n",
              "      <td>2.000000e+00</td>\n",
              "      <td>2.330000e+02</td>\n",
              "      <td>2.330000e+02</td>\n",
              "      <td>1.400000e+01</td>\n",
              "    </tr>\n",
              "    <tr>\n",
              "      <th>max</th>\n",
              "      <td>2.000000e+00</td>\n",
              "      <td>9.000000e+00</td>\n",
              "      <td>2.650000e+02</td>\n",
              "      <td>2.650000e+02</td>\n",
              "      <td>1.238000e+03</td>\n",
              "    </tr>\n",
              "  </tbody>\n",
              "</table>\n",
              "</div>"
            ],
            "text/plain": [
              "           VendorID  passenger_count  PULocationID  DOLocationID   fare_amount\n",
              "count  1.227632e+06     1.227632e+06  1.243241e+06  1.243241e+06  1.243241e+06\n",
              "mean   1.676771e+00     1.568692e+00  1.627453e+02  1.607467e+02  1.302977e+01\n",
              "std    4.677094e-01     1.181809e+00  6.610786e+01  7.098176e+01  1.293962e+01\n",
              "min    1.000000e+00     0.000000e+00  1.000000e+00  1.000000e+00 -1.238000e+03\n",
              "25%    1.000000e+00     1.000000e+00  1.250000e+02  1.070000e+02  6.000000e+00\n",
              "50%    2.000000e+00     1.000000e+00  1.610000e+02  1.620000e+02  9.000000e+00\n",
              "75%    2.000000e+00     2.000000e+00  2.330000e+02  2.330000e+02  1.400000e+01\n",
              "max    2.000000e+00     9.000000e+00  2.650000e+02  2.650000e+02  1.238000e+03"
            ]
          },
          "metadata": {
            "tags": []
          },
          "execution_count": 5
        }
      ]
    },
    {
      "cell_type": "markdown",
      "metadata": {
        "id": "HHEx3FVvwYIF"
      },
      "source": [
        "- Maximum passenger count for a trip is 9\r\n",
        "- Maximum fare amount for a trip is 1238 dollar \r\n",
        "- Average fare amount for trips is 13.03 dollars"
      ]
    },
    {
      "cell_type": "code",
      "metadata": {
        "colab": {
          "base_uri": "https://localhost:8080/"
        },
        "id": "FntyJ44sv3fT",
        "outputId": "ac2a9013-6d41-4ced-9e72-23a3d4faad91"
      },
      "source": [
        "data[\"PULocationID\"].value_counts()"
      ],
      "execution_count": 25,
      "outputs": [
        {
          "output_type": "execute_result",
          "data": {
            "text/plain": [
              "132    53790\n",
              "237    52055\n",
              "161    49558\n",
              "236    48450\n",
              "186    44809\n",
              "       ...  \n",
              "206        1\n",
              "245        1\n",
              "111        1\n",
              "30         1\n",
              "2          1\n",
              "Name: PULocationID, Length: 255, dtype: int64"
            ]
          },
          "metadata": {
            "tags": []
          },
          "execution_count": 25
        }
      ]
    },
    {
      "cell_type": "code",
      "metadata": {
        "colab": {
          "base_uri": "https://localhost:8080/"
        },
        "id": "BdiUuUZCx0vm",
        "outputId": "b4bf818d-ccf4-4903-a4bd-3439f53bab5a"
      },
      "source": [
        "data[\"DOLocationID\"].value_counts()"
      ],
      "execution_count": 24,
      "outputs": [
        {
          "output_type": "execute_result",
          "data": {
            "text/plain": [
              "236    52377\n",
              "237    46683\n",
              "161    44751\n",
              "230    39926\n",
              "170    36256\n",
              "       ...  \n",
              "187        7\n",
              "204        7\n",
              "99         3\n",
              "2          3\n",
              "104        1\n",
              "Name: DOLocationID, Length: 261, dtype: int64"
            ]
          },
          "metadata": {
            "tags": []
          },
          "execution_count": 24
        }
      ]
    },
    {
      "cell_type": "markdown",
      "metadata": {
        "id": "77l1ffuRw-q0"
      },
      "source": [
        "- The count of distinct pickup location id is less than the count of drop off location id\r\n",
        "\r\n",
        "- Most frequently used pick up location id is 132 and least frequent drop off location id is 104"
      ]
    },
    {
      "cell_type": "markdown",
      "metadata": {
        "id": "DLLrAe6Z15-m"
      },
      "source": [
        "Busiest day"
      ]
    },
    {
      "cell_type": "code",
      "metadata": {
        "colab": {
          "base_uri": "https://localhost:8080/",
          "height": 142
        },
        "id": "ftyLS4ip3dOk",
        "outputId": "8ea77924-6899-4b55-f4dc-baed82cf9db4"
      },
      "source": [
        "data[\"tpep_pickup_datetime\"] = pd.to_datetime(data[\"tpep_pickup_datetime\"])\r\n",
        "data[\"tpep_dropoff_datetime\"] = pd.to_datetime(data[\"tpep_dropoff_datetime\"])\r\n",
        "\r\n",
        "data[\"tpep_pickup_day\"] = data[\"tpep_dropoff_datetime\"] .dt.day_name()\r\n",
        "data[\"tpep_dropoff_day\"] = data[\"tpep_dropoff_datetime\"] .dt.day_name()\r\n",
        "\r\n",
        "data.head(3)"
      ],
      "execution_count": 58,
      "outputs": [
        {
          "output_type": "execute_result",
          "data": {
            "text/html": [
              "<div>\n",
              "<style scoped>\n",
              "    .dataframe tbody tr th:only-of-type {\n",
              "        vertical-align: middle;\n",
              "    }\n",
              "\n",
              "    .dataframe tbody tr th {\n",
              "        vertical-align: top;\n",
              "    }\n",
              "\n",
              "    .dataframe thead th {\n",
              "        text-align: right;\n",
              "    }\n",
              "</style>\n",
              "<table border=\"1\" class=\"dataframe\">\n",
              "  <thead>\n",
              "    <tr style=\"text-align: right;\">\n",
              "      <th></th>\n",
              "      <th>VendorID</th>\n",
              "      <th>tpep_pickup_datetime</th>\n",
              "      <th>tpep_dropoff_datetime</th>\n",
              "      <th>passenger_count</th>\n",
              "      <th>PULocationID</th>\n",
              "      <th>DOLocationID</th>\n",
              "      <th>fare_amount</th>\n",
              "      <th>tpep_pickup_day</th>\n",
              "      <th>tpep_dropoff_day</th>\n",
              "    </tr>\n",
              "  </thead>\n",
              "  <tbody>\n",
              "    <tr>\n",
              "      <th>0</th>\n",
              "      <td>1.0</td>\n",
              "      <td>2020-01-01 00:28:15</td>\n",
              "      <td>2020-01-01 00:33:03</td>\n",
              "      <td>1.0</td>\n",
              "      <td>238</td>\n",
              "      <td>239</td>\n",
              "      <td>6.0</td>\n",
              "      <td>Wednesday</td>\n",
              "      <td>Wednesday</td>\n",
              "    </tr>\n",
              "    <tr>\n",
              "      <th>1</th>\n",
              "      <td>1.0</td>\n",
              "      <td>2020-01-01 00:35:39</td>\n",
              "      <td>2020-01-01 00:43:04</td>\n",
              "      <td>1.0</td>\n",
              "      <td>239</td>\n",
              "      <td>238</td>\n",
              "      <td>7.0</td>\n",
              "      <td>Wednesday</td>\n",
              "      <td>Wednesday</td>\n",
              "    </tr>\n",
              "    <tr>\n",
              "      <th>2</th>\n",
              "      <td>1.0</td>\n",
              "      <td>2020-01-01 00:47:41</td>\n",
              "      <td>2020-01-01 00:53:52</td>\n",
              "      <td>1.0</td>\n",
              "      <td>238</td>\n",
              "      <td>238</td>\n",
              "      <td>6.0</td>\n",
              "      <td>Wednesday</td>\n",
              "      <td>Wednesday</td>\n",
              "    </tr>\n",
              "  </tbody>\n",
              "</table>\n",
              "</div>"
            ],
            "text/plain": [
              "   VendorID tpep_pickup_datetime  ... tpep_pickup_day  tpep_dropoff_day\n",
              "0       1.0  2020-01-01 00:28:15  ...       Wednesday         Wednesday\n",
              "1       1.0  2020-01-01 00:35:39  ...       Wednesday         Wednesday\n",
              "2       1.0  2020-01-01 00:47:41  ...       Wednesday         Wednesday\n",
              "\n",
              "[3 rows x 9 columns]"
            ]
          },
          "metadata": {
            "tags": []
          },
          "execution_count": 58
        }
      ]
    },
    {
      "cell_type": "code",
      "metadata": {
        "colab": {
          "base_uri": "https://localhost:8080/"
        },
        "id": "rGp4Ydqt2MJc",
        "outputId": "21724eab-3701-43a8-9d96-42372ccc8468"
      },
      "source": [
        "data[\"tpep_pickup_day\"].value_counts()"
      ],
      "execution_count": 60,
      "outputs": [
        {
          "output_type": "execute_result",
          "data": {
            "text/plain": [
              "Tuesday      201286\n",
              "Friday       182810\n",
              "Saturday     182314\n",
              "Monday       179696\n",
              "Wednesday    169470\n",
              "Sunday       165612\n",
              "Thursday     162053\n",
              "Name: tpep_pickup_day, dtype: int64"
            ]
          },
          "metadata": {
            "tags": []
          },
          "execution_count": 60
        }
      ]
    },
    {
      "cell_type": "code",
      "metadata": {
        "colab": {
          "base_uri": "https://localhost:8080/"
        },
        "id": "2aUzc21g6oYc",
        "outputId": "6b687c07-6fb6-4132-b392-ab610a905ed9"
      },
      "source": [
        "data[\"tpep_dropoff_day\"].value_counts()"
      ],
      "execution_count": 61,
      "outputs": [
        {
          "output_type": "execute_result",
          "data": {
            "text/plain": [
              "Tuesday      201286\n",
              "Friday       182810\n",
              "Saturday     182314\n",
              "Monday       179696\n",
              "Wednesday    169470\n",
              "Sunday       165612\n",
              "Thursday     162053\n",
              "Name: tpep_dropoff_day, dtype: int64"
            ]
          },
          "metadata": {
            "tags": []
          },
          "execution_count": 61
        }
      ]
    },
    {
      "cell_type": "markdown",
      "metadata": {
        "id": "iRkZlA_H6xPM"
      },
      "source": [
        "- Tuesday is the busiest day in terms of passenger pickups.\r\n",
        "\r\n",
        "- Tuesday is the busiest day in terms of passenger drop-offs."
      ]
    },
    {
      "cell_type": "markdown",
      "metadata": {
        "id": "XYSCydMx_bub"
      },
      "source": [
        "Create a subset of the data by extracting those observations where:\r\n",
        " - vendor ID is 2\r\n",
        " - fare amount is less than the mean 'fare amount'\r\n",
        " - 'passenger count' is greater than 5."
      ]
    },
    {
      "cell_type": "code",
      "metadata": {
        "colab": {
          "base_uri": "https://localhost:8080/",
          "height": 272
        },
        "id": "QaSjuaZ66qru",
        "outputId": "8cfc71aa-3c65-45cc-a9e2-e9560dfbda89"
      },
      "source": [
        "new_df = data[data[\"VendorID\"]==2][data[\"fare_amount\"]<1.302977e+01][data[\"passenger_count\"]>5]\r\n",
        "new_df.tail()"
      ],
      "execution_count": 82,
      "outputs": [
        {
          "output_type": "stream",
          "text": [
            "/usr/local/lib/python3.6/dist-packages/ipykernel_launcher.py:1: UserWarning: Boolean Series key will be reindexed to match DataFrame index.\n",
            "  \"\"\"Entry point for launching an IPython kernel.\n",
            "/usr/local/lib/python3.6/dist-packages/ipykernel_launcher.py:1: UserWarning: Boolean Series key will be reindexed to match DataFrame index.\n",
            "  \"\"\"Entry point for launching an IPython kernel.\n"
          ],
          "name": "stderr"
        },
        {
          "output_type": "execute_result",
          "data": {
            "text/html": [
              "<div>\n",
              "<style scoped>\n",
              "    .dataframe tbody tr th:only-of-type {\n",
              "        vertical-align: middle;\n",
              "    }\n",
              "\n",
              "    .dataframe tbody tr th {\n",
              "        vertical-align: top;\n",
              "    }\n",
              "\n",
              "    .dataframe thead th {\n",
              "        text-align: right;\n",
              "    }\n",
              "</style>\n",
              "<table border=\"1\" class=\"dataframe\">\n",
              "  <thead>\n",
              "    <tr style=\"text-align: right;\">\n",
              "      <th></th>\n",
              "      <th>VendorID</th>\n",
              "      <th>tpep_pickup_datetime</th>\n",
              "      <th>tpep_dropoff_datetime</th>\n",
              "      <th>passenger_count</th>\n",
              "      <th>PULocationID</th>\n",
              "      <th>DOLocationID</th>\n",
              "      <th>fare_amount</th>\n",
              "    </tr>\n",
              "  </thead>\n",
              "  <tbody>\n",
              "    <tr>\n",
              "      <th>1227569</th>\n",
              "      <td>2.0</td>\n",
              "      <td>2020-01-07 20:28:35</td>\n",
              "      <td>2020-01-07 20:35:20</td>\n",
              "      <td>6.0</td>\n",
              "      <td>163</td>\n",
              "      <td>170</td>\n",
              "      <td>7.0</td>\n",
              "    </tr>\n",
              "    <tr>\n",
              "      <th>1227576</th>\n",
              "      <td>2.0</td>\n",
              "      <td>2020-01-07 23:57:24</td>\n",
              "      <td>2020-01-08 00:05:22</td>\n",
              "      <td>6.0</td>\n",
              "      <td>229</td>\n",
              "      <td>186</td>\n",
              "      <td>8.0</td>\n",
              "    </tr>\n",
              "    <tr>\n",
              "      <th>1227577</th>\n",
              "      <td>2.0</td>\n",
              "      <td>2020-01-07 23:55:28</td>\n",
              "      <td>2020-01-08 00:01:55</td>\n",
              "      <td>6.0</td>\n",
              "      <td>230</td>\n",
              "      <td>163</td>\n",
              "      <td>6.0</td>\n",
              "    </tr>\n",
              "    <tr>\n",
              "      <th>1227592</th>\n",
              "      <td>2.0</td>\n",
              "      <td>2020-01-07 23:58:26</td>\n",
              "      <td>2020-01-08 00:07:45</td>\n",
              "      <td>6.0</td>\n",
              "      <td>161</td>\n",
              "      <td>79</td>\n",
              "      <td>9.5</td>\n",
              "    </tr>\n",
              "    <tr>\n",
              "      <th>1227611</th>\n",
              "      <td>2.0</td>\n",
              "      <td>2020-01-07 23:59:13</td>\n",
              "      <td>2020-01-08 00:04:34</td>\n",
              "      <td>6.0</td>\n",
              "      <td>142</td>\n",
              "      <td>238</td>\n",
              "      <td>6.5</td>\n",
              "    </tr>\n",
              "  </tbody>\n",
              "</table>\n",
              "</div>"
            ],
            "text/plain": [
              "         VendorID tpep_pickup_datetime  ... DOLocationID  fare_amount\n",
              "1227569       2.0  2020-01-07 20:28:35  ...          170          7.0\n",
              "1227576       2.0  2020-01-07 23:57:24  ...          186          8.0\n",
              "1227577       2.0  2020-01-07 23:55:28  ...          163          6.0\n",
              "1227592       2.0  2020-01-07 23:58:26  ...           79          9.5\n",
              "1227611       2.0  2020-01-07 23:59:13  ...          238          6.5\n",
              "\n",
              "[5 rows x 7 columns]"
            ]
          },
          "metadata": {
            "tags": []
          },
          "execution_count": 82
        }
      ]
    },
    {
      "cell_type": "code",
      "metadata": {
        "colab": {
          "base_uri": "https://localhost:8080/"
        },
        "id": "MxnC0T6SAbMl",
        "outputId": "76821dda-d772-440c-bfa1-23e50661e631"
      },
      "source": [
        "new_df.info"
      ],
      "execution_count": 83,
      "outputs": [
        {
          "output_type": "execute_result",
          "data": {
            "text/plain": [
              "<bound method DataFrame.info of          VendorID tpep_pickup_datetime  ... DOLocationID  fare_amount\n",
              "195           2.0  2020-01-01 00:38:43  ...          170         12.0\n",
              "218           2.0  2020-01-01 00:24:07  ...          260          5.5\n",
              "219           2.0  2020-01-01 00:39:43  ...          260          7.0\n",
              "220           2.0  2020-01-01 00:48:29  ...          129          6.5\n",
              "453           2.0  2020-01-01 00:47:13  ...          140          7.5\n",
              "...           ...                  ...  ...          ...          ...\n",
              "1227569       2.0  2020-01-07 20:28:35  ...          170          7.0\n",
              "1227576       2.0  2020-01-07 23:57:24  ...          186          8.0\n",
              "1227577       2.0  2020-01-07 23:55:28  ...          163          6.0\n",
              "1227592       2.0  2020-01-07 23:58:26  ...           79          9.5\n",
              "1227611       2.0  2020-01-07 23:59:13  ...          238          6.5\n",
              "\n",
              "[19443 rows x 7 columns]>"
            ]
          },
          "metadata": {
            "tags": []
          },
          "execution_count": 83
        }
      ]
    },
    {
      "cell_type": "code",
      "metadata": {
        "colab": {
          "base_uri": "https://localhost:8080/"
        },
        "id": "JAoJD78nAGa1",
        "outputId": "9e91fab4-2208-48e5-bd5e-d93104db5b5a"
      },
      "source": [
        "new_df.isna().sum()"
      ],
      "execution_count": 81,
      "outputs": [
        {
          "output_type": "execute_result",
          "data": {
            "text/plain": [
              "VendorID                 0\n",
              "tpep_pickup_datetime     0\n",
              "tpep_dropoff_datetime    0\n",
              "passenger_count          0\n",
              "PULocationID             0\n",
              "DOLocationID             0\n",
              "fare_amount              0\n",
              "dtype: int64"
            ]
          },
          "metadata": {
            "tags": []
          },
          "execution_count": 81
        }
      ]
    },
    {
      "cell_type": "markdown",
      "metadata": {
        "id": "SP5rPPIt9-fY"
      },
      "source": [
        "- The total number of observations in 'new_df' is 19443 and there are no missing values in any column."
      ]
    },
    {
      "cell_type": "code",
      "metadata": {
        "colab": {
          "base_uri": "https://localhost:8080/",
          "height": 297
        },
        "id": "t6-IvDKFAgA8",
        "outputId": "de56e587-e9db-4ca2-8c54-bb6268439e20"
      },
      "source": [
        "new_df.describe()"
      ],
      "execution_count": 84,
      "outputs": [
        {
          "output_type": "execute_result",
          "data": {
            "text/html": [
              "<div>\n",
              "<style scoped>\n",
              "    .dataframe tbody tr th:only-of-type {\n",
              "        vertical-align: middle;\n",
              "    }\n",
              "\n",
              "    .dataframe tbody tr th {\n",
              "        vertical-align: top;\n",
              "    }\n",
              "\n",
              "    .dataframe thead th {\n",
              "        text-align: right;\n",
              "    }\n",
              "</style>\n",
              "<table border=\"1\" class=\"dataframe\">\n",
              "  <thead>\n",
              "    <tr style=\"text-align: right;\">\n",
              "      <th></th>\n",
              "      <th>VendorID</th>\n",
              "      <th>passenger_count</th>\n",
              "      <th>PULocationID</th>\n",
              "      <th>DOLocationID</th>\n",
              "      <th>fare_amount</th>\n",
              "    </tr>\n",
              "  </thead>\n",
              "  <tbody>\n",
              "    <tr>\n",
              "      <th>count</th>\n",
              "      <td>19443.0</td>\n",
              "      <td>19443.000000</td>\n",
              "      <td>19443.000000</td>\n",
              "      <td>19443.000000</td>\n",
              "      <td>19443.000000</td>\n",
              "    </tr>\n",
              "    <tr>\n",
              "      <th>mean</th>\n",
              "      <td>2.0</td>\n",
              "      <td>6.000257</td>\n",
              "      <td>165.997994</td>\n",
              "      <td>165.288381</td>\n",
              "      <td>7.632995</td>\n",
              "    </tr>\n",
              "    <tr>\n",
              "      <th>std</th>\n",
              "      <td>0.0</td>\n",
              "      <td>0.025857</td>\n",
              "      <td>66.614747</td>\n",
              "      <td>68.441004</td>\n",
              "      <td>2.623450</td>\n",
              "    </tr>\n",
              "    <tr>\n",
              "      <th>min</th>\n",
              "      <td>2.0</td>\n",
              "      <td>6.000000</td>\n",
              "      <td>4.000000</td>\n",
              "      <td>4.000000</td>\n",
              "      <td>-65.000000</td>\n",
              "    </tr>\n",
              "    <tr>\n",
              "      <th>25%</th>\n",
              "      <td>2.0</td>\n",
              "      <td>6.000000</td>\n",
              "      <td>114.000000</td>\n",
              "      <td>114.000000</td>\n",
              "      <td>5.500000</td>\n",
              "    </tr>\n",
              "    <tr>\n",
              "      <th>50%</th>\n",
              "      <td>2.0</td>\n",
              "      <td>6.000000</td>\n",
              "      <td>162.000000</td>\n",
              "      <td>162.000000</td>\n",
              "      <td>7.500000</td>\n",
              "    </tr>\n",
              "    <tr>\n",
              "      <th>75%</th>\n",
              "      <td>2.0</td>\n",
              "      <td>6.000000</td>\n",
              "      <td>234.000000</td>\n",
              "      <td>234.000000</td>\n",
              "      <td>9.500000</td>\n",
              "    </tr>\n",
              "    <tr>\n",
              "      <th>max</th>\n",
              "      <td>2.0</td>\n",
              "      <td>9.000000</td>\n",
              "      <td>265.000000</td>\n",
              "      <td>265.000000</td>\n",
              "      <td>13.000000</td>\n",
              "    </tr>\n",
              "  </tbody>\n",
              "</table>\n",
              "</div>"
            ],
            "text/plain": [
              "       VendorID  passenger_count  PULocationID  DOLocationID   fare_amount\n",
              "count   19443.0     19443.000000  19443.000000  19443.000000  19443.000000\n",
              "mean        2.0         6.000257    165.997994    165.288381      7.632995\n",
              "std         0.0         0.025857     66.614747     68.441004      2.623450\n",
              "min         2.0         6.000000      4.000000      4.000000    -65.000000\n",
              "25%         2.0         6.000000    114.000000    114.000000      5.500000\n",
              "50%         2.0         6.000000    162.000000    162.000000      7.500000\n",
              "75%         2.0         6.000000    234.000000    234.000000      9.500000\n",
              "max         2.0         9.000000    265.000000    265.000000     13.000000"
            ]
          },
          "metadata": {
            "tags": []
          },
          "execution_count": 84
        }
      ]
    },
    {
      "cell_type": "markdown",
      "metadata": {
        "id": "W2_G02NnAmEl"
      },
      "source": [
        "The mean value of 'fare amount' of new_df is 7.63 (rounded to two decimal points) and the average passenger count is approximately 6 (ignore the values after decimal)"
      ]
    },
    {
      "cell_type": "code",
      "metadata": {
        "colab": {
          "base_uri": "https://localhost:8080/",
          "height": 142
        },
        "id": "A9XeBM8JAsgc",
        "outputId": "390193fd-4849-4b09-8d64-dc3a1896bb71"
      },
      "source": [
        "new_df[\"tpep_pickup_datetime\"] = pd.to_datetime(new_df[\"tpep_pickup_datetime\"])\r\n",
        "new_df[\"tpep_dropoff_datetime\"] = pd.to_datetime(new_df[\"tpep_dropoff_datetime\"])\r\n",
        "\r\n",
        "new_df[\"tpep_pickup_day\"] = new_df[\"tpep_dropoff_datetime\"] .dt.day_name()\r\n",
        "new_df[\"tpep_dropoff_day\"] = new_df[\"tpep_dropoff_datetime\"] .dt.day_name()\r\n",
        "\r\n",
        "new_df.head(3)"
      ],
      "execution_count": 85,
      "outputs": [
        {
          "output_type": "execute_result",
          "data": {
            "text/html": [
              "<div>\n",
              "<style scoped>\n",
              "    .dataframe tbody tr th:only-of-type {\n",
              "        vertical-align: middle;\n",
              "    }\n",
              "\n",
              "    .dataframe tbody tr th {\n",
              "        vertical-align: top;\n",
              "    }\n",
              "\n",
              "    .dataframe thead th {\n",
              "        text-align: right;\n",
              "    }\n",
              "</style>\n",
              "<table border=\"1\" class=\"dataframe\">\n",
              "  <thead>\n",
              "    <tr style=\"text-align: right;\">\n",
              "      <th></th>\n",
              "      <th>VendorID</th>\n",
              "      <th>tpep_pickup_datetime</th>\n",
              "      <th>tpep_dropoff_datetime</th>\n",
              "      <th>passenger_count</th>\n",
              "      <th>PULocationID</th>\n",
              "      <th>DOLocationID</th>\n",
              "      <th>fare_amount</th>\n",
              "      <th>tpep_pickup_day</th>\n",
              "      <th>tpep_dropoff_day</th>\n",
              "    </tr>\n",
              "  </thead>\n",
              "  <tbody>\n",
              "    <tr>\n",
              "      <th>195</th>\n",
              "      <td>2.0</td>\n",
              "      <td>2020-01-01 00:38:43</td>\n",
              "      <td>2020-01-01 00:54:55</td>\n",
              "      <td>6.0</td>\n",
              "      <td>236</td>\n",
              "      <td>170</td>\n",
              "      <td>12.0</td>\n",
              "      <td>Wednesday</td>\n",
              "      <td>Wednesday</td>\n",
              "    </tr>\n",
              "    <tr>\n",
              "      <th>218</th>\n",
              "      <td>2.0</td>\n",
              "      <td>2020-01-01 00:24:07</td>\n",
              "      <td>2020-01-01 00:27:48</td>\n",
              "      <td>6.0</td>\n",
              "      <td>129</td>\n",
              "      <td>260</td>\n",
              "      <td>5.5</td>\n",
              "      <td>Wednesday</td>\n",
              "      <td>Wednesday</td>\n",
              "    </tr>\n",
              "    <tr>\n",
              "      <th>219</th>\n",
              "      <td>2.0</td>\n",
              "      <td>2020-01-01 00:39:43</td>\n",
              "      <td>2020-01-01 00:45:55</td>\n",
              "      <td>6.0</td>\n",
              "      <td>226</td>\n",
              "      <td>260</td>\n",
              "      <td>7.0</td>\n",
              "      <td>Wednesday</td>\n",
              "      <td>Wednesday</td>\n",
              "    </tr>\n",
              "  </tbody>\n",
              "</table>\n",
              "</div>"
            ],
            "text/plain": [
              "     VendorID tpep_pickup_datetime  ... tpep_pickup_day  tpep_dropoff_day\n",
              "195       2.0  2020-01-01 00:38:43  ...       Wednesday         Wednesday\n",
              "218       2.0  2020-01-01 00:24:07  ...       Wednesday         Wednesday\n",
              "219       2.0  2020-01-01 00:39:43  ...       Wednesday         Wednesday\n",
              "\n",
              "[3 rows x 9 columns]"
            ]
          },
          "metadata": {
            "tags": []
          },
          "execution_count": 85
        }
      ]
    },
    {
      "cell_type": "code",
      "metadata": {
        "colab": {
          "base_uri": "https://localhost:8080/"
        },
        "id": "AejWq3qLBCl3",
        "outputId": "d74ef5cc-ce59-4263-fa88-85763d212cf4"
      },
      "source": [
        "new_df[\"tpep_dropoff_day\"].value_counts()"
      ],
      "execution_count": 89,
      "outputs": [
        {
          "output_type": "execute_result",
          "data": {
            "text/plain": [
              "Saturday     3072\n",
              "Tuesday      3062\n",
              "Friday       2895\n",
              "Monday       2663\n",
              "Wednesday    2628\n",
              "Thursday     2618\n",
              "Sunday       2505\n",
              "Name: tpep_dropoff_day, dtype: int64"
            ]
          },
          "metadata": {
            "tags": []
          },
          "execution_count": 89
        }
      ]
    },
    {
      "cell_type": "markdown",
      "metadata": {
        "id": "uEFx5w5mAx2Q"
      },
      "source": [
        "Saturday is the busiest day in terms of most number of pickups while Sunday has the least number of passenger drop-offs."
      ]
    },
    {
      "cell_type": "markdown",
      "metadata": {
        "id": "5DO-QHg3BmWd"
      },
      "source": [
        ""
      ]
    },
    {
      "cell_type": "code",
      "metadata": {
        "colab": {
          "base_uri": "https://localhost:8080/",
          "height": 130
        },
        "id": "2eovdMNXBmBP",
        "outputId": "b739e76d-478b-4ddb-b19e-807dceea3e21"
      },
      "source": [
        "For new_df, the median fare amount is less than the mean fare amount"
      ],
      "execution_count": 90,
      "outputs": [
        {
          "output_type": "error",
          "ename": "SyntaxError",
          "evalue": "ignored",
          "traceback": [
            "\u001b[0;36m  File \u001b[0;32m\"<ipython-input-90-a015bc35ffa0>\"\u001b[0;36m, line \u001b[0;32m1\u001b[0m\n\u001b[0;31m    For new_df, the median fare amount is less than the mean fare amount\u001b[0m\n\u001b[0m             ^\u001b[0m\n\u001b[0;31mSyntaxError\u001b[0m\u001b[0;31m:\u001b[0m invalid syntax\n"
          ]
        }
      ]
    },
    {
      "cell_type": "code",
      "metadata": {
        "id": "LlYZiIW6v3oZ"
      },
      "source": [
        ""
      ],
      "execution_count": null,
      "outputs": []
    },
    {
      "cell_type": "code",
      "metadata": {
        "id": "LQFN2jgx0ybF"
      },
      "source": [
        ""
      ],
      "execution_count": null,
      "outputs": []
    }
  ]
}